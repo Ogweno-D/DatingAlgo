{
 "cells": [
  {
   "cell_type": "code",
   "execution_count": 2,
   "metadata": {},
   "outputs": [],
   "source": [
    "import csv\n",
    "import random\n",
    "\n",
    "def generate_interests():\n",
    "    all_interests = ['Nature', 'Dancing', 'Adventure', 'Music', 'Cooking', 'Movies', 'Art', 'Hiking', 'Others']\n",
    "    num_interests = random.randint(1, 5)\n",
    "    return ':'.join(random.sample(all_interests, num_interests))\n",
    "\n",
    "def generate_user_data(num_records):\n",
    "    genders = ['Male', 'Female']\n",
    "    skin_complexions = ['Light', 'Dark', 'Chocolate']\n",
    "    heights = ['Tall', 'Short', 'Average']\n",
    "    \n",
    "    # Separate body types for males and females\n",
    "    body_types_male = ['Slim', 'Average', 'Athletic', 'Heavy', 'Skinny']\n",
    "    body_types_female = ['Slim', 'Average', 'Athletic', 'Hippy', 'Heavy', 'Skinny']\n",
    "    \n",
    "    hair_sizes = ['Short', 'Medium', 'Long']\n",
    "    education_levels = ['Phd', 'Degree', 'Master', 'PhD', 'Certificate', 'Diploma', 'Any will do']\n",
    "    careers = ['Mathematician', 'Legal Person', 'Leadership', 'Engineer', 'Artist', 'Scientist', 'Sports Person', 'Entrepreneur', 'Does not matter']\n",
    "    religions = ['Christian', 'Muslim', 'Hindu', 'Buddhist', 'Does not matter']\n",
    "\n",
    "    data = []\n",
    "    for i in range(1, num_records + 1):\n",
    "        gender = random.choice(genders)\n",
    "        height = random.choice(heights)\n",
    "        skin_complexion = random.choice(skin_complexions)\n",
    "        \n",
    "        # Choose body type based on gender\n",
    "        if gender == 'Male':\n",
    "            body_type = random.choice(body_types_male)\n",
    "        else:\n",
    "            body_type = random.choice(body_types_female)\n",
    "        \n",
    "        hair_size = random.choice(hair_sizes)\n",
    "        education = random.choice(education_levels)\n",
    "        career = random.choice(careers)\n",
    "        religion = random.choice(religions)\n",
    "        description = 'Description {}'.format(i)\n",
    "        interests = generate_interests()\n",
    "        match = random.choice([0, 1])\n",
    "\n",
    "        data.append([i, gender, height, skin_complexion, body_type, hair_size, education, career, religion, description, interests, match])\n",
    "\n",
    "    return data\n",
    "\n",
    "def write_csv(file_name, num_records):\n",
    "    header = ['id', 'gender', 'height', 'skin_complexion', 'body_type', 'hair_size', 'education', 'career', 'religion', 'description', 'interests', 'match']\n",
    "    data = generate_user_data(num_records)\n",
    "\n",
    "    with open(file_name, mode='w', newline='') as file:\n",
    "        writer = csv.writer(file)\n",
    "        writer.writerow(header)\n",
    "        writer.writerows(data)\n",
    "\n",
    "write_csv('matches.csv', 100)\n"
   ]
  },
  {
   "cell_type": "markdown",
   "metadata": {},
   "source": [
    "### MATCHING ALGORITHM TEST DATA\n",
    "Seeing as that the specific dataset with the required values were non-existent. I set out to create my own data set with the specific values I was looking for."
   ]
  }
 ],
 "metadata": {
  "kernelspec": {
   "display_name": "Python 3",
   "language": "python",
   "name": "python3"
  },
  "language_info": {
   "codemirror_mode": {
    "name": "ipython",
    "version": 3
   },
   "file_extension": ".py",
   "mimetype": "text/x-python",
   "name": "python",
   "nbconvert_exporter": "python",
   "pygments_lexer": "ipython3",
   "version": "3.12.2"
  }
 },
 "nbformat": 4,
 "nbformat_minor": 2
}
